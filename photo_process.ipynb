{
 "cells": [
  {
   "cell_type": "markdown",
   "metadata": {},
   "source": [
    "### 定义一些必要的参数"
   ]
  },
  {
   "cell_type": "code",
   "execution_count": 1,
   "metadata": {},
   "outputs": [],
   "source": [
    "stride = 21\n",
    "image_size = 33\n",
    "label_size = 21\n",
    "padding = (image_size - label_size) / 2\n"
   ]
  },
  {
   "cell_type": "markdown",
   "metadata": {},
   "source": [
    "### 首先以RGB的形式读出来，再用modcrop / 3 (为了使缩小三倍和扩大三倍能够整除，不过修改后意义不大)"
   ]
  },
  {
   "cell_type": "code",
   "execution_count": 4,
   "metadata": {},
   "outputs": [],
   "source": [
    "import scipy.misc\n",
    "import scipy.ndimage\n",
    "import numpy as np\n",
    "def imread(path):\n",
    "    return scipy.misc.imread(path, mode='RGB').astype(np.float)\n",
    "def modcrop(image,scale=3):\n",
    "    h,w,_ = image.shape\n",
    "    h = h - np.mod(h,scale)\n",
    "    w = w - np.mod(w,scale)\n",
    "    image = image[0:h,0:w]\n",
    "    return image\n"
   ]
  },
  {
   "cell_type": "markdown",
   "metadata": {},
   "source": [
    "### 储存图像"
   ]
  },
  {
   "cell_type": "code",
   "execution_count": 20,
   "metadata": {},
   "outputs": [],
   "source": [
    "def imsave(image, path):\n",
    "    return scipy.misc.imsave(path, image)"
   ]
  },
  {
   "cell_type": "markdown",
   "metadata": {},
   "source": [
    "### 将图片变模糊，返回的是模糊后的图像和原图像"
   ]
  },
  {
   "cell_type": "code",
   "execution_count": 58,
   "metadata": {},
   "outputs": [],
   "source": [
    "import cv2\n",
    "def process(path,scale=3):\n",
    "    image = imread(path)\n",
    "    label_ = modcrop(image)\n",
    "    input_ = cv2.GaussianBlur(label_,(7,7),0.9)\n",
    "    label_ = label_ / 255.\n",
    "    input_ = input_ / 255.\n",
    "    imsave(label_,\"D:\\\\CIS\\\\photo_test\\\\test2.jpg\")\n",
    "    imsave(input_,\"D:\\\\CIS\\\\photo_test\\\\test3.jpg\")\n",
    "    return input_, label_"
   ]
  },
  {
   "cell_type": "code",
   "execution_count": 59,
   "metadata": {},
   "outputs": [
    {
     "name": "stderr",
     "output_type": "stream",
     "text": [
      "D:\\Environment\\Conda\\setup\\lib\\site-packages\\ipykernel_launcher.py:5: DeprecationWarning: `imread` is deprecated!\n",
      "`imread` is deprecated in SciPy 1.0.0, and will be removed in 1.2.0.\n",
      "Use ``imageio.imread`` instead.\n",
      "  \"\"\"\n",
      "D:\\Environment\\Conda\\setup\\lib\\site-packages\\ipykernel_launcher.py:2: DeprecationWarning: `imsave` is deprecated!\n",
      "`imsave` is deprecated in SciPy 1.0.0, and will be removed in 1.2.0.\n",
      "Use ``imageio.imwrite`` instead.\n",
      "  \n"
     ]
    }
   ],
   "source": [
    "input_, label_ = process(\"D:\\\\CIS\\\\photo_test\\\\puppy1.jpg\")"
   ]
  },
  {
   "cell_type": "code",
   "execution_count": 60,
   "metadata": {},
   "outputs": [
    {
     "name": "stdout",
     "output_type": "stream",
     "text": [
      "(246, 204, 3)\n",
      "(246, 204, 3)\n"
     ]
    }
   ],
   "source": [
    "print(input_.shape)\n",
    "print(label_.shape)"
   ]
  },
  {
   "cell_type": "markdown",
   "metadata": {},
   "source": [
    "### 对图像进行裁剪，如何裁剪请见cut.jpg，看似复杂，实质上是切掉了边缘部分"
   ]
  },
  {
   "cell_type": "code",
   "execution_count": 61,
   "metadata": {},
   "outputs": [],
   "source": [
    "sub_input_ = []\n",
    "sub_label_ = []\n",
    "h, w, _ = input_.shape\n",
    "nx = 0\n",
    "ny = 0\n",
    "for x in range(0,h-image_size+1,stride):\n",
    "    nx += 1\n",
    "    ny = 0\n",
    "    for y in range(0,w-image_size+1,stride):\n",
    "        ny +=1\n",
    "        sub_input = input_[x:x+image_size,y:y+image_size,:]\n",
    "        sub_label = label_[x+int(padding):x+int(padding)+label_size, y+int(padding):y+int(padding)+label_size,:]\n",
    "        sub_input_.append(sub_input)\n",
    "        sub_label_.append(sub_label)"
   ]
  },
  {
   "cell_type": "markdown",
   "metadata": {},
   "source": [
    "### 得到横纵各切成什么样子，这里展示的是切成了 11 x 9"
   ]
  },
  {
   "cell_type": "code",
   "execution_count": 62,
   "metadata": {},
   "outputs": [
    {
     "name": "stdout",
     "output_type": "stream",
     "text": [
      "11\n",
      "9\n"
     ]
    }
   ],
   "source": [
    "print(nx)\n",
    "print(ny)"
   ]
  },
  {
   "cell_type": "code",
   "execution_count": 66,
   "metadata": {},
   "outputs": [
    {
     "data": {
      "text/plain": [
       "99"
      ]
     },
     "execution_count": 66,
     "metadata": {},
     "output_type": "execute_result"
    }
   ],
   "source": [
    "sub_input_ = np.array(sub_input_)\n",
    "sub_label_ = np.array(sub_label_)\n",
    "\n",
    "len(sub_input_)"
   ]
  },
  {
   "cell_type": "markdown",
   "metadata": {},
   "source": [
    "### 此时的 sub\\_input\\_并没有shape，只有长度，方便下面merge函数进行循环"
   ]
  },
  {
   "cell_type": "code",
   "execution_count": 69,
   "metadata": {},
   "outputs": [],
   "source": [
    "def merge(images, size):\n",
    "    h,w = images.shape[1],images.shape[2]\n",
    "    img = np.zeros((h*size[0],w*size[1],3))\n",
    "    print(h)\n",
    "    print(w)\n",
    "    for idx, image in enumerate(images):\n",
    "        i = idx % size[1]\n",
    "        j = idx // size[1]\n",
    "        img[j*h:j*h+h, i*w:i*w+w, :] = image\n",
    "        \n",
    "    return img"
   ]
  },
  {
   "cell_type": "markdown",
   "metadata": {},
   "source": [
    "### 对图片进行保存"
   ]
  },
  {
   "cell_type": "code",
   "execution_count": 70,
   "metadata": {},
   "outputs": [
    {
     "name": "stdout",
     "output_type": "stream",
     "text": [
      "33\n",
      "33\n",
      "21\n",
      "21\n"
     ]
    },
    {
     "name": "stderr",
     "output_type": "stream",
     "text": [
      "D:\\Environment\\Conda\\setup\\lib\\site-packages\\ipykernel_launcher.py:2: DeprecationWarning: `imsave` is deprecated!\n",
      "`imsave` is deprecated in SciPy 1.0.0, and will be removed in 1.2.0.\n",
      "Use ``imageio.imwrite`` instead.\n",
      "  \n"
     ]
    }
   ],
   "source": [
    "img1 = merge(sub_input_,[nx,ny])\n",
    "imsave(img1,\"D:\\\\CIS\\\\photo_test\\\\test4.jpg\")\n",
    "img2 = merge(sub_label_,[nx,ny])\n",
    "imsave(img2,\"D:\\\\CIS\\\\photo_test\\\\test5.jpg\")"
   ]
  },
  {
   "cell_type": "code",
   "execution_count": null,
   "metadata": {},
   "outputs": [],
   "source": []
  }
 ],
 "metadata": {
  "kernelspec": {
   "display_name": "Python 3",
   "language": "python",
   "name": "python3"
  },
  "language_info": {
   "codemirror_mode": {
    "name": "ipython",
    "version": 3
   },
   "file_extension": ".py",
   "mimetype": "text/x-python",
   "name": "python",
   "nbconvert_exporter": "python",
   "pygments_lexer": "ipython3",
   "version": "3.6.4"
  }
 },
 "nbformat": 4,
 "nbformat_minor": 2
}
